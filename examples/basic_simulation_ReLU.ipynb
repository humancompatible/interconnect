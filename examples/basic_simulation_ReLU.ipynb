{
 "cells": [
  {
   "metadata": {},
   "cell_type": "markdown",
   "source": [
    "# Simulation Demonstration\n",
    "\n",
    "This notebook demonstrates the construction of a control system using the node based model, and the simulation of the system."
   ]
  },
  {
   "metadata": {
    "ExecuteTime": {
     "end_time": "2025-05-08T20:09:36.074303Z",
     "start_time": "2025-05-08T20:09:36.072741Z"
    }
   },
   "cell_type": "code",
   "source": [
    "import sys\n",
    "import torch\n",
    "import torch.nn as nn\n",
    "sys.path.append('../')"
   ],
   "execution_count": 21,
   "outputs": []
  },
  {
   "metadata": {},
   "cell_type": "markdown",
   "source": "# Reference Signal Node"
  },
  {
   "metadata": {
    "ExecuteTime": {
     "end_time": "2025-05-08T20:09:36.120129Z",
     "start_time": "2025-05-08T20:09:36.118277Z"
    }
   },
   "cell_type": "code",
   "source": "from humancompatible.interconnect.simulators.nodes.reference import ReferenceSignal",
   "execution_count": 22,
   "outputs": []
  },
  {
   "metadata": {},
   "cell_type": "markdown",
   "source": [
    "## Aggregator Node\n",
    "\n",
    "Aggregator nodes are the only node that can accept a many to one connection. They will combine these signals into a single signal.\n",
    "\n",
    "Logic is controlled by a logic class. For the aggregator node, this requires the following:\n",
    "- `self.tensors`: a list of tensors\n",
    "- `self.forward`: a function that takes in a list of signals (tensors) and returns a single signal\n"
   ]
  },
  {
   "metadata": {
    "ExecuteTime": {
     "end_time": "2025-05-08T20:09:36.135878Z",
     "start_time": "2025-05-08T20:09:36.133008Z"
    }
   },
   "cell_type": "code",
   "source": [
    "class AggregatorLogic1:\n",
    "    def __init__(self):\n",
    "        self.tensors = []\n",
    "        \n",
    "    def forward(self, tensors):\n",
    "        if type(tensors) is not list:\n",
    "            tensors = [tensors]\n",
    "        self.tensors = tensors\n",
    "        result = torch.sum(torch.stack([torch.sum(t.detach().clone().requires_grad_()) for t in self.tensors])).unsqueeze(dim=0)\n",
    "        return result\n",
    "        \n",
    "class AggregatorLogic2:\n",
    "    def __init__(self):\n",
    "        self.tensors = []\n",
    "        \n",
    "    def forward(self, tensors):\n",
    "        if type(tensors) is not list:\n",
    "            tensors = [tensors]\n",
    "        self.tensors = tensors\n",
    "        return torch.sum(torch.stack([torch.sum(t) for t in self.tensors])).unsqueeze(dim=0)\n",
    "        "
   ],
   "execution_count": 23,
   "outputs": []
  },
  {
   "metadata": {
    "ExecuteTime": {
     "end_time": "2025-05-08T20:09:36.137988Z",
     "start_time": "2025-05-08T20:09:36.136655Z"
    }
   },
   "cell_type": "code",
   "source": "from humancompatible.interconnect.simulators.nodes.aggregator import Aggregator",
   "execution_count": 24,
   "outputs": []
  },
  {
   "metadata": {
    "ExecuteTime": {
     "end_time": "2025-04-19T14:04:51.402464Z",
     "start_time": "2025-04-19T14:04:51.400431Z"
    }
   },
   "cell_type": "markdown",
   "source": "## Controller Node"
  },
  {
   "metadata": {},
   "cell_type": "markdown",
   "source": [
    "#### Creating New Logic Classes for Controllers\n",
    "\n",
    "##### Overview\n",
    "\n",
    "To create a new logic class for use with the `Controller` class, follow these guidelines. Your logic class should define the behavior of a specific type of controller (e.g., PI, PID, MPC).\n",
    "\n",
    "##### Requirements\n",
    "\n",
    "Each logic class must have:\n",
    "\n",
    "1. An `variables` attribute: A list of input variable names, provided by the input signal from the prior node.\n",
    "2. An `self.tensors` attribute: a dictionary of tensors that are used in the logic, uses the `torch` library\n",
    "3. An `forward(values)` method: Computes and returns the controller output.\n",
    "\n",
    "##### Basic Structure\n",
    "\n",
    "```python\n",
    "class YourLogicClass:\n",
    "    def __init__(self, param1=default1, param2=default2):\n",
    "        self.variables = [\"input1\", \"input2\", ...]\n",
    "        self.tensors = {\"intpit1\": torch.tensor([0.0], requires_grad=True), ...}\n",
    "        # Initialize other necessary attributes\n",
    "\n",
    "    def forward(self, values):\n",
    "        # Compute the output based on input values\n",
    "        # Update internal state if necessary\n",
    "        return output\n",
    "```\n",
    "Any information needed to be stored between cycles can also be stored in the logic class. This can be done by adding attributes to the class and updating them in the `forward` method.\n",
    "\n",
    "Prewritten logic classes can be found in the `interconnect/simulators/logic/controllers` directory. New logic classes should be added to this directory if they would be useful for other users."
   ]
  },
  {
   "metadata": {
    "ExecuteTime": {
     "end_time": "2025-05-08T20:09:36.140263Z",
     "start_time": "2025-05-08T20:09:36.138815Z"
    }
   },
   "cell_type": "code",
   "source": [
    "from humancompatible.interconnect.simulators.nodes.controller import Controller\n",
    "from humancompatible.interconnect.simulators.logic.controllers.ReLU_controller import ReLUControllerLogic"
   ],
   "execution_count": 25,
   "outputs": []
  },
  {
   "metadata": {},
   "cell_type": "markdown",
   "source": [
    "## Population Node\n",
    "\n",
    "A node that represents a population of agents. Takes a logic object, along with a number of agents and the positive and negative feedback signals. This logic will be applied to each agent in the population. In order to use multiple types of agents, multiple population nodes can be used in parallel, and joined with an aggregator node."
   ]
  },
  {
   "metadata": {
    "ExecuteTime": {
     "end_time": "2025-05-08T20:09:36.147129Z",
     "start_time": "2025-05-08T20:09:36.144874Z"
    }
   },
   "cell_type": "code",
   "source": [
    "from humancompatible.interconnect.simulators.nodes.population import Population\n",
    "\n",
    "class AgentLogic:\n",
    "    def __init__(self, offset=0.3):\n",
    "        self.tensors = {\"x\": torch.tensor([0.0], requires_grad=True),\n",
    "                        \"pi\": torch.tensor([0.0], requires_grad=True)}\n",
    "        self.variables = [\"pi\"]\n",
    "        self.probability = 0.5\n",
    "        self.offset = offset\n",
    "\n",
    "    def set_probability(self, probability):\n",
    "        self.probability = probability\n",
    "\n",
    "    def forward(self, values, number_of_agents):\n",
    "        self.tensors[\"pi\"] = values[\"pi\"]\n",
    "        f1_part = torch.sum(torch.bernoulli(torch.ones(number_of_agents) * self.probability))\n",
    "        f2_part = number_of_agents - f1_part\n",
    "        result = f1_part * self.tensors[\"pi\"] + f2_part * (self.tensors[\"pi\"]*5 - self.offset)\n",
    "        return result\n"
   ],
   "execution_count": 26,
   "outputs": []
  },
  {
   "metadata": {},
   "cell_type": "markdown",
   "source": "## Delay Node"
  },
  {
   "metadata": {
    "ExecuteTime": {
     "end_time": "2025-05-08T20:09:36.161607Z",
     "start_time": "2025-05-08T20:09:36.159482Z"
    }
   },
   "cell_type": "code",
   "source": [
    "from humancompatible.interconnect.simulators.nodes.delay import Delay\n",
    "\n",
    "class DelayLogic:\n",
    "    def __init__(self, alpha=0.3):\n",
    "        self.tensors = {\"x\": torch.tensor([0.0], requires_grad=True)}\n",
    "        self.tensors = {\"s\": torch.tensor([0.0], requires_grad=True)}\n",
    "        self.variables = [\"x\"]\n",
    "        self.alpha = alpha\n",
    "        \n",
    "    def forward(self, values):\n",
    "        self.tensors[\"x\"] = values[\"x\"]\n",
    "        self.tensors[\"s\"] = self.tensors[\"x\"] * self.alpha + self.tensors[\"s\"].detach() * (1.0 - self.alpha)\n",
    "        result = self.tensors[\"s\"]\n",
    "        return result"
   ],
   "execution_count": 27,
   "outputs": []
  },
  {
   "metadata": {},
   "cell_type": "markdown",
   "source": [
    "## Filter Node\n",
    "\n",
    "Filter nodes take a logic  object. For the controller, this requires the following:\n",
    "\n",
    "- `self.tensors`: a dictionary of tensors that are used in the logic, uses the `torch` library\n",
    "- `self.variables`: a list of variables that are used in the logic, in the order that they are passed to the node\n",
    "- `forward(values)` method: computes and returns filter's output"
   ]
  },
  {
   "metadata": {
    "ExecuteTime": {
     "end_time": "2025-05-08T20:09:36.164680Z",
     "start_time": "2025-05-08T20:09:36.162886Z"
    }
   },
   "cell_type": "code",
   "source": [
    "from humancompatible.interconnect.simulators.nodes.filter import Filter\n",
    "\n",
    "class FilterLogic:\n",
    "    def __init__(self):\n",
    "        self.tensors = {\"S\": torch.tensor([0.0], requires_grad=True),\n",
    "                        \"K\": torch.tensor([2.0], requires_grad=True)}\n",
    "        self.variables = [\"S\"]\n",
    "    \n",
    "    def forward(self, values):\n",
    "        self.tensors[\"S\"] = values[\"S\"]\n",
    "        result = - (self.tensors[\"S\"]) / self.tensors[\"K\"]\n",
    "        return result"
   ],
   "execution_count": 28,
   "outputs": []
  },
  {
   "metadata": {},
   "cell_type": "markdown",
   "source": [
    "### Creating the system\n",
    "\n",
    "The system is composed of a number of nodes.\n",
    "\n",
    "Single nodes can be added using the `system.add_node` method. Multiple nodes can be added using the `system.add_nodes` method, where a list of nodes is passed as an argument.\n",
    "\n",
    "To connect nodes, the `system.connect_nodes` method is used. This method takes two arguments, the first being the source node and the second being the target node.\n",
    "\n",
    "The start node, where the process begins, and the checkpoint node, where an iteration is considered complete, are added using the `system.add_start` and `system.add_checkpoint` methods, respectively."
   ]
  },
  {
   "metadata": {
    "ExecuteTime": {
     "end_time": "2025-05-08T20:09:36.180708Z",
     "start_time": "2025-05-08T20:09:36.173164Z"
    }
   },
   "cell_type": "code",
   "source": [
    "from humancompatible.interconnect.simulators.simulation import Simulation\n",
    "class Sim(Simulation):\n",
    "    def __init__(self, reference_signal=8.0):\n",
    "        super().__init__()\n",
    "        \n",
    "        refsig = ReferenceSignal(name=\"r\")\n",
    "        refsig.set_reference_signal(reference_signal)\n",
    "        agg1 = Aggregator(name=\"A1\", logic=AggregatorLogic1()) # Error detector\n",
    "        agg2 = Aggregator(name=\"A2\", logic=AggregatorLogic2()) # Sums population outputs\n",
    "        cont = Controller(name=\"C\", logic=ReLUControllerLogic())\n",
    "        pop1 = Population(name=\"P1\", logic=AgentLogic(), number_of_agents=20)\n",
    "        pop2 = Population(name=\"P2\", logic=AgentLogic(offset=0.4), number_of_agents=20)\n",
    "        delay = Delay(name=\"Z\", logic=DelayLogic())\n",
    "        fil = Filter(name=\"F\", logic=FilterLogic())\n",
    "        self.system.add_nodes([refsig, agg1, agg2, cont, pop1, pop2, delay, fil])\n",
    "        self.system.connect_nodes(refsig, agg1)\n",
    "        self.system.connect_nodes(agg1, cont)\n",
    "        self.system.connect_nodes(cont, pop1)\n",
    "        self.system.connect_nodes(cont, pop2)\n",
    "        self.system.connect_nodes(pop1, agg2)\n",
    "        self.system.connect_nodes(pop2, agg2)\n",
    "        self.system.connect_nodes(agg2, delay)\n",
    "        self.system.connect_nodes(delay, fil)\n",
    "        self.system.connect_nodes(fil, agg1)\n",
    "        \n",
    "        self.system.set_start_node(refsig)\n",
    "        self.system.set_checkpoint_node(agg1)\n",
    "        \n",
    "        # Set learning node\n",
    "        # cont.logic.load_state_dict(torch.load(\"../../interconnect/examples/weights/weights_basic_RELU.pth\"))\n",
    "        # model = cont.logic\n",
    "        # self.system.set_learning_model(model)\n",
    "        # self.system.set_loss_function(nn.MSELoss())\n",
    "        # optimizer = torch.optim.Adam(model.parameters(), lr=0.01)\n",
    "        # self.system.set_optimizer(optimizer)\n",
    "        \n",
    "        # Load controller logic\n",
    "        cont.logic.load_state_dict(torch.load(\"../../interconnect/examples/weights/weights_basic_RELU.pth\"))\n",
    "        \n",
    "sim = Sim(reference_signal=20.0)"
   ],
   "execution_count": 29,
   "outputs": []
  },
  {
   "metadata": {},
   "cell_type": "markdown",
   "source": [
    "### Rendering the system graph\n",
    "\n",
    "Calling the `system.render_graph()` method will produce a visualisation of the control system. This is useful for ensuring that the system has been constructed according to the desired configuration.\n",
    "\n",
    "The start node, shaded in green, indicates where the process will begin.\n",
    "\n",
    "The checkpoint node, shaded in blue, indicates where the iteration count will be incremented. Typically, this will be the first node in the circular path of the system."
   ]
  },
  {
   "metadata": {
    "ExecuteTime": {
     "end_time": "2025-05-08T20:09:36.416757Z",
     "start_time": "2025-05-08T20:09:36.182313Z"
    }
   },
   "cell_type": "code",
   "source": "sim.plot.render_graph()",
   "execution_count": 30,
   "outputs": []
  },
  {
   "metadata": {},
   "cell_type": "markdown",
   "source": [
    "### Checking the validity of the system\n",
    "\n",
    "This is automatically done prior to running the simulation, but it can be done manually by calling the `check_system` method."
   ]
  },
  {
   "metadata": {
    "ExecuteTime": {
     "end_time": "2025-05-08T20:09:36.457665Z",
     "start_time": "2025-05-08T20:09:36.451242Z"
    }
   },
   "cell_type": "code",
   "source": [
    "validSystem = sim.system.check_system()\n",
    "if validSystem:\n",
    "    print(\"System is valid\")\n",
    "else:\n",
    "    for e in validSystem:\n",
    "        print(e)"
   ],
   "execution_count": 31,
   "outputs": []
  },
  {
   "metadata": {},
   "cell_type": "markdown",
   "source": "### Running the simulation"
  },
  {
   "metadata": {
    "ExecuteTime": {
     "end_time": "2025-05-08T20:09:36.511415Z",
     "start_time": "2025-05-08T20:09:36.459891Z"
    }
   },
   "cell_type": "code",
   "source": "sim.system.run(300, show_trace=False, show_loss=False)",
   "execution_count": 32,
   "outputs": []
  },
  {
   "metadata": {},
   "cell_type": "markdown",
   "source": "### Plotting Node history"
  },
  {
   "metadata": {
    "ExecuteTime": {
     "end_time": "2025-05-08T20:09:36.610434Z",
     "start_time": "2025-05-08T20:09:36.515596Z"
    }
   },
   "cell_type": "code",
   "source": "sim.plot.node_outputs(sim.system.get_node(\"A1\"))",
   "execution_count": 33,
   "outputs": []
  },
  {
   "metadata": {
    "ExecuteTime": {
     "end_time": "2025-05-08T20:09:36.612988Z",
     "start_time": "2025-05-08T20:09:36.611137Z"
    }
   },
   "cell_type": "code",
   "source": "# sim.system.get_node(\"C\").logic.state_dict()",
   "execution_count": 34,
   "outputs": []
  },
  {
   "metadata": {},
   "cell_type": "markdown",
   "source": "### Tuned Populations Logic functions"
  },
  {
   "metadata": {
    "ExecuteTime": {
     "end_time": "2025-05-08T20:09:36.615427Z",
     "start_time": "2025-05-08T20:09:36.613490Z"
    }
   },
   "cell_type": "code",
   "source": "# torch.save(sim.system.get_node(\"C\").logic.state_dict(), \"./weights_basic_RELU.pth\") # SAVING MODEL TO FILE",
   "execution_count": 35,
   "outputs": []
  },
  {
   "metadata": {
    "ExecuteTime": {
     "end_time": "2025-05-08T20:09:36.617417Z",
     "start_time": "2025-05-08T20:09:36.616033Z"
    }
   },
   "cell_type": "code",
   "source": "# sim.plot.population_probabilities(xMin=-10, xMax=10)",
   "execution_count": 36,
   "outputs": []
  },
  {
   "metadata": {
    "ExecuteTime": {
     "end_time": "2025-05-08T20:09:36.697238Z",
     "start_time": "2025-05-08T20:09:36.618104Z"
    }
   },
   "cell_type": "code",
   "source": "sim.plot.runtimes()",
   "execution_count": 37,
   "outputs": []
  },
  {
   "metadata": {},
   "cell_type": "markdown",
   "source": "### Contraction on average test"
  },
  {
   "metadata": {
    "ExecuteTime": {
     "end_time": "2025-05-08T20:09:37.342557Z",
     "start_time": "2025-05-08T20:09:36.697809Z"
    }
   },
   "cell_type": "code",
   "source": [
    "from tests.contractionTests.contraction_test import get_factor_from_list\n",
    "import numpy as np\n",
    "eps = 0.05\n",
    "r = get_factor_from_list(reference_signals=np.array([-200, 200]), agent_probs=np.array([[eps, 1.0 - eps], [eps, 1.0 - eps]]), it=200, show_node_outputs_plot=\"A1\", sim_class=Sim, inputs_node=\"A1\", outputs_node=\"F\")"
   ],
   "execution_count": 38,
   "outputs": []
  },
  {
   "metadata": {},
   "cell_type": "markdown",
   "source": "### Get the contraction factor"
  },
  {
   "metadata": {
    "ExecuteTime": {
     "end_time": "2025-05-08T20:09:37.345539Z",
     "start_time": "2025-05-08T20:09:37.343943Z"
    }
   },
   "cell_type": "code",
   "source": "print(f\"Factor = {r}\")",
   "execution_count": 39,
   "outputs": []
  },
  {
   "metadata": {},
   "cell_type": "markdown",
   "source": "### Get the probability distribution estimations of the error after N iterations of the system"
  },
  {
   "metadata": {
    "ExecuteTime": {
     "end_time": "2025-05-08T20:09:38.432496Z",
     "start_time": "2025-05-08T20:09:37.346499Z"
    }
   },
   "cell_type": "code",
   "source": [
    "from humancompatible.interconnect.simulators.distribution import Distribution\n",
    "dist = Distribution(sim_class=Sim, iterations=20, samples=100)\n",
    "distributions = dist.get_distributions(h=1.9, reference_signals=np.array([4.0, 5.0, 20.0, 25.0]), x_min=-40, x_max=40, bins=100)"
   ],
   "execution_count": 40,
   "outputs": []
  },
  {
   "metadata": {
    "ExecuteTime": {
     "end_time": "2025-05-08T20:09:38.435033Z",
     "start_time": "2025-05-08T20:09:38.433398Z"
    }
   },
   "cell_type": "code",
   "source": "",
   "execution_count": 40,
   "outputs": []
  }
 ],
 "metadata": {
  "kernelspec": {
   "display_name": "Python 3",
   "language": "python",
   "name": "python3"
  },
  "language_info": {
   "codemirror_mode": {
    "name": "ipython",
    "version": 3
   },
   "file_extension": ".py",
   "mimetype": "text/x-python",
   "name": "python",
   "nbconvert_exporter": "python",
   "pygments_lexer": "ipython3",
   "version": "3.10.11"
  }
 },
 "nbformat": 4,
 "nbformat_minor": 2
}
